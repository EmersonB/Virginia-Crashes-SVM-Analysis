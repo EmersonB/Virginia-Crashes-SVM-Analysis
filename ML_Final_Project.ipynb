{
  "nbformat": 4,
  "nbformat_minor": 0,
  "metadata": {
    "colab": {
      "name": "ML Final Project.ipynb",
      "provenance": [],
      "collapsed_sections": [],
      "toc_visible": true,
      "include_colab_link": true
    },
    "kernelspec": {
      "display_name": "Python 3",
      "name": "python3"
    }
  },
  "cells": [
    {
      "cell_type": "markdown",
      "metadata": {
        "id": "view-in-github",
        "colab_type": "text"
      },
      "source": [
        "<a href=\"https://colab.research.google.com/github/EmersonB/Virginia-Crashes-SVM-Analysis/blob/main/ML_Final_Project.ipynb\" target=\"_parent\"><img src=\"https://colab.research.google.com/assets/colab-badge.svg\" alt=\"Open In Colab\"/></a>"
      ]
    },
    {
      "cell_type": "markdown",
      "metadata": {
        "id": "C56C1ngs9MjE"
      },
      "source": [
        "**Data Loading & Manipulation**"
      ]
    },
    {
      "cell_type": "code",
      "metadata": {
        "colab": {
          "base_uri": "https://localhost:8080/"
        },
        "id": "zgDoFZQjk_wG",
        "outputId": "bed00a10-5b16-4a29-f3b6-a8b9685f0ce1"
      },
      "source": [
        "# Import some common packages\n",
        "import os\n",
        "import numpy as np\n",
        "import matplotlib\n",
        "import matplotlib.pyplot as plt\n",
        "import pandas as pd\n",
        "\n",
        "# to make this notebook's output stable across runs\n",
        "np.random.seed(42)\n",
        "\n",
        "# Your code goes here for this section, make sure you also include the output to answer the above questions.\n",
        "import pandas as pd # Pandas module to enable data manipulation\n",
        "\n",
        "def load_crash_data():\n",
        "    csv_path = os.path.join(\"\", \"Virginia_Crashes.csv\")\n",
        "    return pd.read_csv(csv_path, delimiter=\",\")\n",
        "def get_file_in_mb():\n",
        "    size = os.path.getsize(\"Virginia_Crashes.csv\")\n",
        "    return str(round(size / (1024 * 1024), 3))\n",
        "\n",
        "crash2 = load_crash_data()\n",
        "crash_size = get_file_in_mb()\n",
        "# Display the first n rows of the data. (n=5 by default, we will use 10 rows)\n",
        "crash2.head(10)\n",
        "print(crash_size)"
      ],
      "execution_count": null,
      "outputs": [
        {
          "output_type": "stream",
          "text": [
            "670.131\n"
          ],
          "name": "stdout"
        }
      ]
    },
    {
      "cell_type": "code",
      "metadata": {
        "id": "eyAbAzk5qM2t"
      },
      "source": [
        "crash=crash2.copy()"
      ],
      "execution_count": null,
      "outputs": []
    },
    {
      "cell_type": "code",
      "metadata": {
        "colab": {
          "base_uri": "https://localhost:8080/"
        },
        "id": "PSGgXQz726ZP",
        "outputId": "2374784a-ef86-4fbe-c941-f3d5bb55671f"
      },
      "source": [
        "crash = crash.head(100000)\n",
        "\n",
        "crash = crash.infer_objects()\n",
        "crash = crash.convert_dtypes()\n",
        "crash['Driverage'].fillna('30', inplace=True)\n",
        "\n",
        "\n",
        "for i in range(len(crash['Driverage'])):\n",
        "  age = crash['Driverage'][i]\n",
        "  if(\";\" in str(age)):\n",
        "    temp = age.split(\";\")\n",
        "    min_age = min(temp)\n",
        "    age = min_age\n",
        "  else:\n",
        "    age = int(age)\n",
        "  crash['Driverage'][i] = str(age)\n",
        "\n",
        "for i in range(len(crash['Drivergen'])):\n",
        "  gen = crash['Drivergen'][i]\n",
        "  gen2 = \"0\"\n",
        "  if(\";\" in str(gen)):\n",
        "    temp = gen.split(\";\")\n",
        "    gen = temp[0]\n",
        "  if(gen == 'Female'):\n",
        "    gen2 = \"1\"\n",
        "  if(gen == 'Not Provided'):\n",
        "    gen2 = \"2\"\n",
        "  crash['Drivergen'][i] = gen2\n",
        "\n",
        "for i in range(len(crash['Collision_Type'])):\n",
        "  tp = crash['Collision_Type'][i]\n",
        "  tp = tp[0]\n",
        "  #print(tp)\n",
        "  if not tp.isdigit():\n",
        "    tp = \"0\"\n",
        "  crash['Collision_Type'][i] = tp\n",
        "\n",
        "count = 0\n",
        "for i in range(len(crash['Alcohol_Notalcohol'])):\n",
        "  al = crash['Alcohol_Notalcohol'][i]\n",
        "  if(al == \"ALCOHOL\"):\n",
        "    count+=1\n",
        "    al = \"1\"\n",
        "  else:\n",
        "    al = \"-1\"\n",
        "  crash['Alcohol_Notalcohol'][i] = al\n",
        "\n",
        "print(\"count\",count)\n",
        "\n",
        "\n",
        "print(crash['Crash_Severity'].iloc[0:40])\n",
        "\n",
        "crash['Drivergen'] = crash['Drivergen'].astype(int)\n",
        "\n",
        "\n",
        "crash['Alcohol_Notalcohol'] = crash['Alcohol_Notalcohol'].astype(int)\n",
        "\n",
        "crash['Collision_Type'] = crash['Collision_Type'].astype(int)\n",
        "\n",
        "crash['Driverage'] = crash['Driverage'].astype(int)\n",
        "\n",
        "\n",
        "crash.info()\n",
        "print(crash.iloc[0])"
      ],
      "execution_count": null,
      "outputs": [
        {
          "output_type": "stream",
          "text": [
            "count 6526\n",
            "0             B.Visible Injury\n",
            "1          C.Nonvisible Injury\n",
            "2     PDO.Property Damage Only\n",
            "3     PDO.Property Damage Only\n",
            "4     PDO.Property Damage Only\n",
            "5     PDO.Property Damage Only\n",
            "6     PDO.Property Damage Only\n",
            "7     PDO.Property Damage Only\n",
            "8     PDO.Property Damage Only\n",
            "9     PDO.Property Damage Only\n",
            "10         C.Nonvisible Injury\n",
            "11    PDO.Property Damage Only\n",
            "12    PDO.Property Damage Only\n",
            "13    PDO.Property Damage Only\n",
            "14    PDO.Property Damage Only\n",
            "15             A.Severe Injury\n",
            "16    PDO.Property Damage Only\n",
            "17    PDO.Property Damage Only\n",
            "18            B.Visible Injury\n",
            "19    PDO.Property Damage Only\n",
            "20    PDO.Property Damage Only\n",
            "21            B.Visible Injury\n",
            "22    PDO.Property Damage Only\n",
            "23            B.Visible Injury\n",
            "24    PDO.Property Damage Only\n",
            "25            B.Visible Injury\n",
            "26    PDO.Property Damage Only\n",
            "27    PDO.Property Damage Only\n",
            "28    PDO.Property Damage Only\n",
            "29    PDO.Property Damage Only\n",
            "30    PDO.Property Damage Only\n",
            "31    PDO.Property Damage Only\n",
            "32    PDO.Property Damage Only\n",
            "33    PDO.Property Damage Only\n",
            "34    PDO.Property Damage Only\n",
            "35            B.Visible Injury\n",
            "36    PDO.Property Damage Only\n",
            "37    PDO.Property Damage Only\n",
            "38    PDO.Property Damage Only\n",
            "39    PDO.Property Damage Only\n",
            "Name: Crash_Severity, dtype: string\n",
            "<class 'pandas.core.frame.DataFrame'>\n",
            "RangeIndex: 100000 entries, 0 to 99999\n",
            "Data columns (total 53 columns):\n",
            " #   Column                           Non-Null Count   Dtype  \n",
            "---  ------                           --------------   -----  \n",
            " 0   X                                99999 non-null   float64\n",
            " 1   Y                                99999 non-null   float64\n",
            " 2   OBJECTID                         100000 non-null  Int64  \n",
            " 3   Document_Nbr                     100000 non-null  Int64  \n",
            " 4   Crash_Dt                         100000 non-null  string \n",
            " 5   Time_Slicing                     100000 non-null  string \n",
            " 6   Weather_Condition                100000 non-null  string \n",
            " 7   Rte_Nm                           100000 non-null  string \n",
            " 8   Rns_Mp                           92468 non-null   float64\n",
            " 9   First_Harmful_Event_of_Entire_C  100000 non-null  string \n",
            " 10  Speed_Notspeed                   100000 non-null  string \n",
            " 11  Belted_Unbelted                  100000 non-null  string \n",
            " 12  Alcohol_Notalcohol               100000 non-null  int64  \n",
            " 13  Rd_Type                          100000 non-null  string \n",
            " 14  Collision_Type                   100000 non-null  int64  \n",
            " 15  Vehicle_Body_Type_Cd             100000 non-null  string \n",
            " 16  Driver_Action_Type_Cd            100000 non-null  string \n",
            " 17  Crash_Severity                   100000 non-null  string \n",
            " 18  K_People                         100000 non-null  Int64  \n",
            " 19  A_People                         100000 non-null  Int64  \n",
            " 20  B_People                         100000 non-null  Int64  \n",
            " 21  C_People                         100000 non-null  Int64  \n",
            " 22  LATITUDE                         99999 non-null   float64\n",
            " 23  LONGITUDE                        99999 non-null   float64\n",
            " 24  VSP                              100000 non-null  Int64  \n",
            " 25  SYSTEM                           100000 non-null  Int64  \n",
            " 26  OWNERSHIP                        100000 non-null  Int64  \n",
            " 27  CRASH_YEAR                       100000 non-null  Int64  \n",
            " 28  Local_Case_Cd                    99919 non-null   string \n",
            " 29  FAC                              90071 non-null   string \n",
            " 30  FUN                              90071 non-null   string \n",
            " 31  Light_Condition                  100000 non-null  string \n",
            " 32  DIAGRAM                          100000 non-null  string \n",
            " 33  VDOT_District                    100000 non-null  string \n",
            " 34  Node_Info                        71275 non-null   string \n",
            " 35  Ownership_Used                   100000 non-null  string \n",
            " 36  Physical_Juris                   100000 non-null  string \n",
            " 37  Plan_District                    100000 non-null  string \n",
            " 38  Carspeedlimit                    53865 non-null   Int64  \n",
            " 39  Crash_Military_Tm                100000 non-null  Int64  \n",
            " 40  Crash_Event_Type_Dsc             100000 non-null  string \n",
            " 41  Rte_Category_Cd                  100000 non-null  string \n",
            " 42  Roadway_Surface_Cond             100000 non-null  string \n",
            " 43  Vehiclenumber                    100000 non-null  string \n",
            " 44  Driverage                        100000 non-null  int64  \n",
            " 45  Drivergen                        100000 non-null  int64  \n",
            " 46  Driverinjurytype                 100000 non-null  string \n",
            " 47  Passage                          6719 non-null    Int64  \n",
            " 48  Pedage                           1231 non-null    Int64  \n",
            " 49  Pedgen                           1323 non-null    string \n",
            " 50  Pedinjurytype                    1323 non-null    string \n",
            " 51  Passgen                          9193 non-null    string \n",
            " 52  Passinjurytype                   9193 non-null    string \n",
            "dtypes: Int64(14), float64(5), int64(4), string(30)\n",
            "memory usage: 41.8 MB\n",
            "X                                                                           -76.6995\n",
            "Y                                                                             36.827\n",
            "OBJECTID                                                                           1\n",
            "Document_Nbr                                                               130015005\n",
            "Crash_Dt                                                      2013/01/02 00:00:00+00\n",
            "Time_Slicing                                                              6PM TO 9PM\n",
            "Weather_Condition                             1. No Adverse Condition (Clear/Cloudy)\n",
            "Rte_Nm                                                              R-VA046SC00606EB\n",
            "Rns_Mp                                                                       3.84072\n",
            "First_Harmful_Event_of_Entire_C                                            14. Ditch\n",
            "Speed_Notspeed                                                             Not_SPEED\n",
            "Belted_Unbelted                                                               BELTED\n",
            "Alcohol_Notalcohol                                                                -1\n",
            "Rd_Type                                                                   RD-UNKNOWN\n",
            "Collision_Type                                                                     9\n",
            "Vehicle_Body_Type_Cd                                                1. Passenger car\n",
            "Driver_Action_Type_Cd                            40. Fail to Maintain Proper Control\n",
            "Crash_Severity                                                      B.Visible Injury\n",
            "K_People                                                                           0\n",
            "A_People                                                                           0\n",
            "B_People                                                                           1\n",
            "C_People                                                                           0\n",
            "LATITUDE                                                                      36.827\n",
            "LONGITUDE                                                                   -76.6995\n",
            "VSP                                                                                5\n",
            "SYSTEM                                                                             3\n",
            "OWNERSHIP                                                                          3\n",
            "CRASH_YEAR                                                                      2013\n",
            "Local_Case_Cd                                                              201202934\n",
            "FAC                                                           0.Two-way, non-divided\n",
            "FUN                                                                    6.Rural Local\n",
            "Light_Condition                                           4. Darkness - Road Lighted\n",
            "DIAGRAM                            http://rns/APP/Images/CrashDiagramProxy.aspx?d...\n",
            "VDOT_District                                                        5.Hampton Roads\n",
            "Node_Info                          393039.Deer Path Trl; SC-606E (Isle of Wight C...\n",
            "Ownership_Used                                                              VDOT_SEC\n",
            "Physical_Juris                                                      46.Isle of Wight\n",
            "Plan_District                                                       23.Hampton Roads\n",
            "Carspeedlimit                                                                   <NA>\n",
            "Crash_Military_Tm                                                               2007\n",
            "Crash_Event_Type_Dsc                                                       14. Ditch\n",
            "Rte_Category_Cd                                                                  SEC\n",
            "Roadway_Surface_Cond                                                          1. Dry\n",
            "Vehiclenumber                                                                      1\n",
            "Driverage                                                                         18\n",
            "Drivergen                                                                          1\n",
            "Driverinjurytype                                                                   B\n",
            "Passage                                                                         <NA>\n",
            "Pedage                                                                          <NA>\n",
            "Pedgen                                                                          <NA>\n",
            "Pedinjurytype                                                                   <NA>\n",
            "Passgen                                                                         <NA>\n",
            "Passinjurytype                                                                  <NA>\n",
            "Name: 0, dtype: object\n"
          ],
          "name": "stdout"
        }
      ]
    },
    {
      "cell_type": "code",
      "metadata": {
        "colab": {
          "base_uri": "https://localhost:8080/"
        },
        "id": "vpNEsscCtEUL",
        "outputId": "17fd79e4-4762-4cbb-adc5-c798e627741e"
      },
      "source": [
        "print(crash['Collision_Type'].iloc[0:40])"
      ],
      "execution_count": null,
      "outputs": [
        {
          "output_type": "stream",
          "text": [
            "0     9\n",
            "1     1\n",
            "2     1\n",
            "3     9\n",
            "4     9\n",
            "5     1\n",
            "6     2\n",
            "7     9\n",
            "8     2\n",
            "9     1\n",
            "10    9\n",
            "11    9\n",
            "12    9\n",
            "13    9\n",
            "14    9\n",
            "15    9\n",
            "16    8\n",
            "17    2\n",
            "18    9\n",
            "19    9\n",
            "20    4\n",
            "21    1\n",
            "22    2\n",
            "23    2\n",
            "24    9\n",
            "25    2\n",
            "26    9\n",
            "27    2\n",
            "28    4\n",
            "29    9\n",
            "30    1\n",
            "31    9\n",
            "32    9\n",
            "33    1\n",
            "34    1\n",
            "35    9\n",
            "36    1\n",
            "37    1\n",
            "38    1\n",
            "39    2\n",
            "Name: Collision_Type, dtype: int64\n"
          ],
          "name": "stdout"
        }
      ]
    },
    {
      "cell_type": "code",
      "metadata": {
        "id": "Xb-wvqKc3LCi"
      },
      "source": [
        ""
      ],
      "execution_count": null,
      "outputs": []
    },
    {
      "cell_type": "code",
      "metadata": {
        "id": "4msRhZeVkfjD"
      },
      "source": [
        "from sklearn.model_selection import train_test_split\n",
        "from sklearn.metrics import confusion_matrix\n",
        "from sklearn.metrics import precision_score, recall_score\n",
        "from sklearn.compose import ColumnTransformer\n",
        "from sklearn.preprocessing import LabelEncoder\n",
        "from sklearn.preprocessing import OneHotEncoder\n",
        "from sklearn.pipeline import Pipeline\n",
        "from sklearn.preprocessing import StandardScaler\n",
        "\n",
        "# y = y*2-1.0 # convert the labels from {0,1} to {-1, +1}\n",
        "\n",
        "# X_train, X_test, y_train, y_test = train_test_split(X, y, test_size=0.2,\n",
        "#                                                     random_state=42)\n",
        "# print(crash.info)\n",
        "\n",
        "# crash = crash.drop(['Crash_Dt'], axis=1)\n",
        "crash = crash[['Alcohol_Notalcohol','Speed_Notspeed', 'Belted_Unbelted', 'Driverage','Drivergen','Crash_Severity','Collision_Type']]\n",
        "\n",
        "# crash = crash.dropna()\n",
        "train_set, test_set = train_test_split(crash, test_size=0.2, random_state=42)\n",
        "X_train = train_set.drop(\"Alcohol_Notalcohol\", axis=1);\n",
        "y_train = train_set[\"Alcohol_Notalcohol\"].copy();\n",
        "X_test = test_set.drop(\"Alcohol_Notalcohol\", axis=1);\n",
        "y_test = test_set[\"Alcohol_Notalcohol\"].copy();\n"
      ],
      "execution_count": null,
      "outputs": []
    },
    {
      "cell_type": "code",
      "metadata": {
        "colab": {
          "base_uri": "https://localhost:8080/"
        },
        "id": "TCDP7C9O3jR6",
        "outputId": "5f8f6115-ada7-4495-eb7a-423e388e7182"
      },
      "source": [
        "crash.info()"
      ],
      "execution_count": null,
      "outputs": [
        {
          "output_type": "stream",
          "text": [
            "<class 'pandas.core.frame.DataFrame'>\n",
            "RangeIndex: 100000 entries, 0 to 99999\n",
            "Data columns (total 7 columns):\n",
            " #   Column              Non-Null Count   Dtype \n",
            "---  ------              --------------   ----- \n",
            " 0   Alcohol_Notalcohol  100000 non-null  int64 \n",
            " 1   Speed_Notspeed      100000 non-null  string\n",
            " 2   Belted_Unbelted     100000 non-null  string\n",
            " 3   Driverage           100000 non-null  int64 \n",
            " 4   Drivergen           100000 non-null  int64 \n",
            " 5   Crash_Severity      100000 non-null  string\n",
            " 6   Collision_Type      100000 non-null  int64 \n",
            "dtypes: int64(4), string(3)\n",
            "memory usage: 5.3 MB\n"
          ],
          "name": "stdout"
        }
      ]
    },
    {
      "cell_type": "code",
      "metadata": {
        "colab": {
          "base_uri": "https://localhost:8080/"
        },
        "id": "pV-n5vlDpv0o",
        "outputId": "ee828701-7dff-4703-e8ad-529e7914d863"
      },
      "source": [
        "print(crash.iloc[0])"
      ],
      "execution_count": null,
      "outputs": [
        {
          "output_type": "stream",
          "text": [
            "Speed_Notspeed                         Not_SPEED\n",
            "Belted_Unbelted                           BELTED\n",
            "Driverage                                     27\n",
            "Drivergen                                   Male\n",
            "Crash_Severity          PDO.Property Damage Only\n",
            "Collision_Type     4. Sideswipe - Same Direction\n",
            "Name: 9254, dtype: object\n"
          ],
          "name": "stdout"
        }
      ]
    },
    {
      "cell_type": "code",
      "metadata": {
        "colab": {
          "base_uri": "https://localhost:8080/"
        },
        "id": "ifoqyuU8qAFD",
        "outputId": "2fdc179f-3507-49d9-cb24-e12bc1ed1418"
      },
      "source": [
        "print(crash['Drivergen'][0:50])"
      ],
      "execution_count": null,
      "outputs": [
        {
          "output_type": "stream",
          "text": [
            "9254      Male\n",
            "1561      Male\n",
            "1670    Female\n",
            "6087      Male\n",
            "6669    Female\n",
            "5933      Male\n",
            "8829    Female\n",
            "7945    Female\n",
            "3508      Male\n",
            "2002    Female\n",
            "5866    Female\n",
            "168     Female\n",
            "2588      Male\n",
            "5905      Male\n",
            "9529      Male\n",
            "6384    Female\n",
            "7824    Female\n",
            "9779      Male\n",
            "4629    Female\n",
            "8560    Female\n",
            "9291      Male\n",
            "6874    Female\n",
            "6521      Male\n",
            "8979      Male\n",
            "6647      Male\n",
            "9825      Male\n",
            "210       Male\n",
            "5278    Female\n",
            "1919      Male\n",
            "718       Male\n",
            "4868    Female\n",
            "7834    Female\n",
            "1298      Male\n",
            "9193    Female\n",
            "4617      Male\n",
            "3128    Female\n",
            "9795    Female\n",
            "3979    Female\n",
            "9924    Female\n",
            "8317      Male\n",
            "4393      Male\n",
            "1287      Male\n",
            "4355    Female\n",
            "7013      Male\n",
            "3885    Female\n",
            "5749      Male\n",
            "9169      Male\n",
            "2407      Male\n",
            "2013    Female\n",
            "5153      Male\n",
            "Name: Drivergen, dtype: string\n"
          ],
          "name": "stdout"
        }
      ]
    },
    {
      "cell_type": "code",
      "metadata": {
        "colab": {
          "base_uri": "https://localhost:8080/"
        },
        "id": "SEDZWre7Jhfr",
        "outputId": "4a2c30d9-bc84-447e-9638-2f0ad7c76eac"
      },
      "source": [
        "corr_matrix = crash.corr()\n",
        "corr_matrix.shape"
      ],
      "execution_count": null,
      "outputs": [
        {
          "output_type": "execute_result",
          "data": {
            "text/plain": [
              "(1, 1)"
            ]
          },
          "metadata": {
            "tags": []
          },
          "execution_count": 76
        }
      ]
    },
    {
      "cell_type": "code",
      "metadata": {
        "colab": {
          "base_uri": "https://localhost:8080/"
        },
        "id": "7C_b-0dO0DEG",
        "outputId": "b44ed020-4f9c-4d59-a62f-31c6714e2296"
      },
      "source": [
        "from sklearn.impute import SimpleImputer\n",
        "# y_train = y_train*2-1.0\n",
        "# y_test = y_test * 2-1.0\n",
        "\n",
        "# for col in crash.columns: \n",
        "#     print(col) \n",
        "\n",
        "crash = X_train.copy()\n",
        "crash_test = X_test.copy()\n",
        "\n",
        "print(train_set.shape, test_set.shape)\n",
        "\n",
        "print(X_train.shape)\n",
        "print(y_train.shape)\n",
        "\n",
        "print(X_test.shape)\n",
        "print(y_test.shape)\n",
        "\n",
        "\n",
        "crash_num = crash.select_dtypes(include=[np.number])\n",
        "num_attribs = list(crash_num)\n",
        "num_attribs = [\"Driverage\",'Collision_Type','Drivergen']\n",
        "# cat_attribs = [\"Speed_Notspeed\",\"Belted_Unbelted\",\"Driverage\",\"Collision_Type\",\"Time\"] #we should use bins for driverage\n",
        "crash_cat = crash.select_dtypes(include=['string'])\n",
        "cat_attribs = list(crash_cat)\n",
        "cat_attribs = ['Speed_Notspeed', 'Belted_Unbelted','Crash_Severity',]\n",
        "\n",
        "print(num_attribs)\n",
        "print(cat_attribs)\n",
        "print(crash.head(10))\n",
        "\n",
        "num_pipeline = Pipeline([\n",
        "        ('imputer', SimpleImputer(strategy=\"median\")),\n",
        "        ('std_scaler', StandardScaler()),\n",
        "    ])\n",
        "\n",
        "full_pipeline = ColumnTransformer([\n",
        "        (\"num\", num_pipeline, num_attribs),\n",
        "        (\"cat\", OneHotEncoder(), cat_attribs),\n",
        "    ])\n",
        "\n",
        "y_pipeline = ColumnTransformer([\n",
        "          (\"num\", num_pipeline, [\"Alcohol_Notalcohol\"])                       \n",
        "])\n",
        "\n",
        "crash_prepared = full_pipeline.fit_transform(crash)\n",
        "crash_test_prepared = full_pipeline.transform(crash_test)\n",
        "\n",
        "# y_train = y_pipeline.fit_transform(y_train)\n",
        "# y_test = y_pipeline.transform(y_test)\n",
        "\n",
        "\n",
        "# y_test = y_test.replace(\"ALCOHOL\", 1.0)\n",
        "# y_test = y_test.replace(\"Not_ALCOHOL\",-1.0)\n",
        "\n",
        "# y_train = y_train.replace(\"ALCOHOL\", 1.0)\n",
        "# y_train = y_train.replace(\"Not_ALCOHOL\",-1.0)\n",
        "\n",
        "print(crash_prepared.shape)\n",
        "print(y_train.shape)\n",
        "\n"
      ],
      "execution_count": null,
      "outputs": [
        {
          "output_type": "stream",
          "text": [
            "(80000, 7) (20000, 7)\n",
            "(80000, 6)\n",
            "(80000,)\n",
            "(20000, 6)\n",
            "(20000,)\n",
            "['Driverage', 'Collision_Type', 'Drivergen']\n",
            "['Speed_Notspeed', 'Belted_Unbelted', 'Crash_Severity']\n",
            "      Speed_Notspeed Belted_Unbelted  ...            Crash_Severity  Collision_Type\n",
            "75220      Not_SPEED          BELTED  ...  PDO.Property Damage Only               1\n",
            "48955      Not_SPEED          BELTED  ...          B.Visible Injury               1\n",
            "44966      Not_SPEED          BELTED  ...       C.Nonvisible Injury               1\n",
            "13568      Not_SPEED          BELTED  ...  PDO.Property Damage Only               2\n",
            "92727      Not_SPEED          BELTED  ...          B.Visible Injury               1\n",
            "51349          SPEED          BELTED  ...  PDO.Property Damage Only               1\n",
            "86979      Not_SPEED          BELTED  ...  PDO.Property Damage Only               1\n",
            "3806       Not_SPEED        UNBELTED  ...          B.Visible Injury               2\n",
            "91822      Not_SPEED        UNBELTED  ...          B.Visible Injury               1\n",
            "6006       Not_SPEED          BELTED  ...  PDO.Property Damage Only               2\n",
            "\n",
            "[10 rows x 6 columns]\n",
            "(80000, 12)\n",
            "(80000,)\n"
          ],
          "name": "stdout"
        }
      ]
    },
    {
      "cell_type": "markdown",
      "metadata": {
        "id": "1R3ZMjB_vUVZ"
      },
      "source": [
        ""
      ]
    },
    {
      "cell_type": "code",
      "metadata": {
        "colab": {
          "base_uri": "https://localhost:8080/"
        },
        "id": "Axt6w6rovU50",
        "outputId": "895d90b2-6cdc-4ea2-92c5-4be7d29bbaa6"
      },
      "source": [
        "print(y_train.iloc[0:50])"
      ],
      "execution_count": null,
      "outputs": [
        {
          "output_type": "stream",
          "text": [
            "75220   -1.0\n",
            "48955   -1.0\n",
            "44966   -1.0\n",
            "13568   -1.0\n",
            "92727   -1.0\n",
            "51349   -1.0\n",
            "86979   -1.0\n",
            "3806    -1.0\n",
            "91822   -1.0\n",
            "6006    -1.0\n",
            "55086    1.0\n",
            "44204    1.0\n",
            "32409   -1.0\n",
            "88994   -1.0\n",
            "8138    -1.0\n",
            "2007    -1.0\n",
            "89851   -1.0\n",
            "49900   -1.0\n",
            "76308   -1.0\n",
            "37721   -1.0\n",
            "30391   -1.0\n",
            "12604    1.0\n",
            "29365   -1.0\n",
            "99209   -1.0\n",
            "34444   -1.0\n",
            "52417   -1.0\n",
            "52031   -1.0\n",
            "47723   -1.0\n",
            "5612    -1.0\n",
            "37266   -1.0\n",
            "74932   -1.0\n",
            "76079   -1.0\n",
            "54744   -1.0\n",
            "98989   -1.0\n",
            "7576    -1.0\n",
            "59926   -1.0\n",
            "46956   -1.0\n",
            "52932   -1.0\n",
            "47146   -1.0\n",
            "41075   -1.0\n",
            "13175   -1.0\n",
            "81495   -1.0\n",
            "5633    -1.0\n",
            "21915   -1.0\n",
            "15693   -1.0\n",
            "57045   -1.0\n",
            "74184   -1.0\n",
            "59925   -1.0\n",
            "67805   -1.0\n",
            "80164    1.0\n",
            "Name: Alcohol_Notalcohol, dtype: float64\n"
          ],
          "name": "stdout"
        }
      ]
    },
    {
      "cell_type": "markdown",
      "metadata": {
        "id": "b_aV2q47DOdT"
      },
      "source": [
        "- - -\n",
        "## 2. TRAIN SVM FOR CLASSIFICATION TASK \n",
        "\n",
        "Use the standard libarary SVM classifier (SVC) on the training data, and then test the classifier on the test data. You will need to call SVM with 3 kernels: (1) Linear, (2) Polynomial and (3) Gaussian RBF. \n",
        "\n",
        "You should tune each model using a grid search or similar hyperparameter selection process, and report the best hyperparameters found. You will use these same hyperparameter settings later when testing and comparing to your implementation in Task 4. Once you've selected the best hyperparameters for each kernel, you will need to report the following:\n",
        "\n",
        "* Confusion matrix, Recall, and Precision. If applicable, discuss any tuning process on C and/or gamma to get to a reasonable result.\n",
        "* Use the provided plot_svm() to visualize the SVM in 2D. This might give you some insight on how SVM determines the margin and support vector on the Moon dataset.\n"
      ]
    },
    {
      "cell_type": "code",
      "metadata": {
        "colab": {
          "background_save": true,
          "base_uri": "https://localhost:8080/"
        },
        "id": "n5yxy7kgcvZx",
        "outputId": "58cd3bbe-a4dc-4ea0-e200-c1380ace9ff3"
      },
      "source": [
        "from sklearn.svm import SVC\n",
        "from sklearn import metrics\n",
        "from sklearn.model_selection import GridSearchCV\n",
        "import numpy as np\n",
        "\n",
        "# Your code here\n",
        "linear_svc = SVC(kernel = 'linear', C=5, random_state = 42)\n",
        "\n",
        "\n",
        "# grid_search = GridSearchCV(linear_svc, {'C':[0.0001, 0.1, 0.5,1,2,3,4,5,6,7,8,9]},cv=5, scoring =\"recall\") \n",
        "# grid_search.fit(crash_prepared, y_train)\n",
        "# print(grid_search.best_params_ )\n",
        "#The grid search found an optimal C value of 2 for precision and recall\n",
        "\n",
        "print(crash_prepared.shape)\n",
        "print(y_train.shape)\n",
        "print(crash_test_prepared.shape)\n",
        "print(y_test.shape)\n",
        "linear_svc.fit(crash_prepared, y_train)\n",
        "linear_predict = linear_svc.predict(crash_test_prepared)\n",
        "\n",
        "linear_confusion_matrix = metrics.confusion_matrix(y_test, linear_predict)\n",
        "print(linear_confusion_matrix) \n",
        "#we can see from the confusion matrix that there are minimal false positives and negatives.\n",
        "\n",
        "\n"
      ],
      "execution_count": null,
      "outputs": [
        {
          "output_type": "stream",
          "text": [
            "(80000, 12)\n",
            "(80000,)\n",
            "(20000, 12)\n",
            "(20000,)\n",
            "[[18684     0]\n",
            " [ 1316     0]]\n"
          ],
          "name": "stdout"
        }
      ]
    },
    {
      "cell_type": "code",
      "metadata": {
        "colab": {
          "base_uri": "https://localhost:8080/",
          "height": 34
        },
        "id": "ZMKmgJz10ysz",
        "outputId": "85198a56-87ac-4de3-a2ef-96c199663537"
      },
      "source": [
        "metrics.precision_score(y_test, linear_predict)"
      ],
      "execution_count": null,
      "outputs": [
        {
          "output_type": "execute_result",
          "data": {
            "text/plain": [
              "0.0"
            ]
          },
          "metadata": {
            "tags": []
          },
          "execution_count": 167
        }
      ]
    },
    {
      "cell_type": "code",
      "metadata": {
        "colab": {
          "base_uri": "https://localhost:8080/",
          "height": 88
        },
        "id": "3MVXO_t2x0jH",
        "outputId": "aee4740d-d939-44c8-adae-8d31fc9410ec"
      },
      "source": [
        "metrics.recall_score(y_test, linear_predict)"
      ],
      "execution_count": null,
      "outputs": [
        {
          "output_type": "stream",
          "text": [
            "/usr/local/lib/python3.6/dist-packages/sklearn/metrics/_classification.py:1272: UndefinedMetricWarning: Recall is ill-defined and being set to 0.0 due to no true samples. Use `zero_division` parameter to control this behavior.\n",
            "  _warn_prf(average, modifier, msg_start, len(result))\n"
          ],
          "name": "stderr"
        },
        {
          "output_type": "execute_result",
          "data": {
            "text/plain": [
              "0.0"
            ]
          },
          "metadata": {
            "tags": []
          },
          "execution_count": 168
        }
      ]
    },
    {
      "cell_type": "code",
      "metadata": {
        "colab": {
          "base_uri": "https://localhost:8080/"
        },
        "id": "AfFmmR3c4CGJ",
        "outputId": "e75b91cf-36cf-4b31-8846-70917f71d052"
      },
      "source": [
        "from sklearn.svm import SVC\n",
        "from sklearn import metrics\n",
        "from sklearn.model_selection import GridSearchCV\n",
        "import numpy as np\n",
        "\n",
        "poly_svc = SVC(kernel = 'poly', C=5, gamma = 5, random_state = 42)\n",
        "\n",
        "\n",
        "# grid_search = GridSearchCV(poly_svc, {'C':[0.2,0.5,1,2,3,4,5,6,7,8,9,10,12],'gamma':[2,4,6,8,10]}, cv=5, scoring =\"recall\") \n",
        "# grid_search.fit(X_train, y_train)\n",
        "# grid_search.best_params_ \n",
        "#The grid search found different values for C and gamma depending on if we want better recall or precision. We will use 0.2 and 2 respectively.\n",
        "\n",
        "\n",
        "poly_svc.fit(crash_prepared, y_train)\n",
        "poly_predict = poly_svc.predict(crash_test_prepared)\n",
        "\n",
        "poly_confusion_matrix = metrics.confusion_matrix(y_test, poly_predict)\n",
        "print(poly_confusion_matrix) \n",
        "\n",
        "# poly_svc.fit(X_train, y_train)\n",
        "# poly_predict = poly_svc.predict(X_test)\n",
        "# poly_confusion_matrix = metrics.confusion_matrix(y_test, poly_predict)\n",
        "# print(poly_confusion_matrix) \n",
        "#we can see from the confusion matrix that there are minimal false positives and negatives."
      ],
      "execution_count": null,
      "outputs": [
        {
          "output_type": "stream",
          "text": [
            "[LibSVM][[178  14]\n",
            " [  7   1]]\n"
          ],
          "name": "stdout"
        }
      ]
    },
    {
      "cell_type": "markdown",
      "metadata": {
        "id": "NuS0_IawVi3h"
      },
      "source": [
        "precision = tp /(tp+fp) = (1/(15)) = 0.0667\n",
        "recall = tp/(tp+fn) = (1/8) = 0.125"
      ]
    },
    {
      "cell_type": "code",
      "metadata": {
        "id": "Sv_SPrRtLEAA"
      },
      "source": [
        "\n",
        "poly_svc.fit(crash_prepared, y_train)\n",
        "poly_predict = poly_svc.predict(crash_test_prepared)\n",
        "\n",
        "poly_confusion_matrix = metrics.confusion_matrix(y_test, poly_predict)\n",
        "print(poly_confusion_matrix) "
      ],
      "execution_count": null,
      "outputs": []
    },
    {
      "cell_type": "code",
      "metadata": {
        "id": "KMSban2d4faz"
      },
      "source": [
        "metrics.precision_score(y_test, poly_predict)"
      ],
      "execution_count": null,
      "outputs": []
    },
    {
      "cell_type": "code",
      "metadata": {
        "id": "fkFI1QG84iWv",
        "colab": {
          "base_uri": "https://localhost:8080/",
          "height": 164
        },
        "outputId": "aaa7f698-a8e5-4f61-e63e-499fa3c4e4d7"
      },
      "source": [
        "metrics.recall_score(y_test, poly_predict)"
      ],
      "execution_count": 1,
      "outputs": [
        {
          "output_type": "error",
          "ename": "NameError",
          "evalue": "ignored",
          "traceback": [
            "\u001b[0;31m---------------------------------------------------------------------------\u001b[0m",
            "\u001b[0;31mNameError\u001b[0m                                 Traceback (most recent call last)",
            "\u001b[0;32m<ipython-input-1-d6434c69bfe2>\u001b[0m in \u001b[0;36m<module>\u001b[0;34m()\u001b[0m\n\u001b[0;32m----> 1\u001b[0;31m \u001b[0mmetrics\u001b[0m\u001b[0;34m.\u001b[0m\u001b[0mrecall_score\u001b[0m\u001b[0;34m(\u001b[0m\u001b[0my_test\u001b[0m\u001b[0;34m,\u001b[0m \u001b[0mpoly_predict\u001b[0m\u001b[0;34m)\u001b[0m\u001b[0;34m\u001b[0m\u001b[0;34m\u001b[0m\u001b[0m\n\u001b[0m",
            "\u001b[0;31mNameError\u001b[0m: name 'metrics' is not defined"
          ]
        }
      ]
    },
    {
      "cell_type": "code",
      "metadata": {
        "id": "MevmoF9w4l1F"
      },
      "source": [
        "plot_svm(poly_svc, X, y)"
      ],
      "execution_count": null,
      "outputs": []
    },
    {
      "cell_type": "code",
      "metadata": {
        "colab": {
          "background_save": true
        },
        "id": "ikF5iP6Y1Fod",
        "outputId": "8e348e58-6820-4040-a28d-6951256f81e5"
      },
      "source": [
        "rbf_svc = SVC(kernel = 'rbf', C=6, gamma = 2, random_state = 42)\n",
        "\n",
        "\n",
        "# grid_search = GridSearchCV(rbf_svc, {'C':[0.2,0.5,1,2,3,4,5,6],'gamma':[2,4,6,8,10]}, cv=5, scoring =\"recall\") \n",
        "# grid_search.fit(crash_prepared, y_train)\n",
        "# grid_search.best_params_ \n",
        "#The grid search found different values for C and gamma depending on if we want better recall or precision. We will use 3 and 8 respectively.\n",
        "\n",
        "\n",
        "rbf_svc.fit(crash_prepared, y_train)\n",
        "rbf_predict = rbf_svc.predict(crash_test_prepared)\n",
        "\n",
        "rbf_confusion_matrix = metrics.confusion_matrix(y_test, rbf_predict)\n",
        "print(rbf_confusion_matrix) \n",
        "\n",
        "# rbf_svc.fit(X_train, y_train)\n",
        "# rbf_predict = rbf_svc.predict(X_test)\n",
        "# rbf_confusion_matrix = metrics.confusion_matrix(y_test, rbf_predict)\n",
        "# print(rbf_confusion_matrix) \n",
        "#we can see from the confusion matrix that there are minimal false positives and negatives."
      ],
      "execution_count": null,
      "outputs": [
        {
          "output_type": "stream",
          "text": [
            "[[18613    71]\n",
            " [ 1270    46]]\n"
          ],
          "name": "stdout"
        }
      ]
    },
    {
      "cell_type": "code",
      "metadata": {
        "colab": {
          "base_uri": "https://localhost:8080/"
        },
        "id": "V8HIgA2OyqsR",
        "outputId": "912be91b-f34b-4a5f-fc39-789a0617d3d0"
      },
      "source": [
        "grid_search.best_params_ "
      ],
      "execution_count": null,
      "outputs": [
        {
          "output_type": "execute_result",
          "data": {
            "text/plain": [
              "{'C': 6, 'gamma': 2}"
            ]
          },
          "metadata": {
            "tags": []
          },
          "execution_count": 24
        }
      ]
    },
    {
      "cell_type": "code",
      "metadata": {
        "colab": {
          "base_uri": "https://localhost:8080/"
        },
        "id": "GFQlFRPB3vPj",
        "outputId": "b23472cf-5be3-4b05-da87-0f51a8ad8679"
      },
      "source": [
        "metrics.precision_score(y_test, rbf_predict)"
      ],
      "execution_count": 41,
      "outputs": [
        {
          "output_type": "execute_result",
          "data": {
            "text/plain": [
              "0.39316239316239315"
            ]
          },
          "metadata": {
            "tags": []
          },
          "execution_count": 41
        }
      ]
    },
    {
      "cell_type": "code",
      "metadata": {
        "colab": {
          "base_uri": "https://localhost:8080/"
        },
        "id": "E8nALdUG3121",
        "outputId": "a1b32a16-6c02-4911-b99d-15a0ff60a047"
      },
      "source": [
        "metrics.recall_score(y_test, rbf_predict)"
      ],
      "execution_count": 42,
      "outputs": [
        {
          "output_type": "execute_result",
          "data": {
            "text/plain": [
              "0.034954407294832825"
            ]
          },
          "metadata": {
            "tags": []
          },
          "execution_count": 42
        }
      ]
    }
  ]
}